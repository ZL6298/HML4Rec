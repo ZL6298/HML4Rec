{
 "cells": [
  {
   "cell_type": "code",
   "execution_count": 1,
   "metadata": {
    "ExecuteTime": {
     "end_time": "2021-02-05T05:21:37.350800Z",
     "start_time": "2021-02-05T05:21:36.645017Z"
    }
   },
   "outputs": [],
   "source": [
    "from configs import *\n",
    "from Data_loader import *\n",
    "from models import *\n",
    "from utils import *\n",
    "from HML4Rec import *\n",
    "from MeLU import *\n",
    "from MAMO import *\n",
    "import warnings\n",
    "warnings.filterwarnings('ignore')"
   ]
  },
  {
   "cell_type": "code",
   "execution_count": null,
   "metadata": {
    "ExecuteTime": {
     "end_time": "2021-02-03T06:59:09.063829Z",
     "start_time": "2021-02-03T06:59:03.719065Z"
    }
   },
   "outputs": [],
   "source": [
    "#Reproduce HML4Rec\n",
    "\n",
    "#Preprocess dataset and generate training, develop, and test sets\n",
    "train_order, valid_order, test_order, movie_dict, user_dict, Tr_rated_dict, \\\n",
    "Rated_dict, condidate_item = prepare_dataset()\n",
    "#Build recommender system\n",
    "RecSys = HML4Rec(configs, train_order, valid_order, test_order, \n",
    "                 movie_dict, user_dict, Tr_rated_dict, Rated_dict, condidate_item)\n",
    "#Training\n",
    "RecSys.train()\n",
    "#Recommending\n",
    "RecSys.Recommending()\n",
    "#generate result figures\n",
    "Show_result()"
   ]
  },
  {
   "cell_type": "code",
   "execution_count": null,
   "metadata": {},
   "outputs": [],
   "source": [
    "#Reproduce MeLU\n",
    "\n",
    "#Preprocess dataset and generate training, develop, and test sets\n",
    "total_dataset, valid_dataset, train_order, valid_order, test_order, movie_dict, \\\n",
    "user_dict, Tr_rated_dict, Rated_dict, condidate_item = prepare_dataset_MeLU()\n",
    "#Build recommender system\n",
    "melu = MeLU(configs_MeLU)\n",
    "#Training\n",
    "training(melu, total_dataset, valid_dataset, batch_size=configs_MeLU['batch_size'],\n",
    "         num_epoch=configs_MeLU['num_epoch'], model_save=True)\n",
    "#Recommending\n",
    "MeLU.movie_dict = movie_dict\n",
    "MeLU.user_dict = user_dict\n",
    "MeLU_Recommending(test_order, Rated_dict, condidate_item)"
   ]
  },
  {
   "cell_type": "code",
   "execution_count": null,
   "metadata": {
    "ExecuteTime": {
     "end_time": "2021-02-05T05:22:11.059798Z",
     "start_time": "2021-02-05T05:21:44.367102Z"
    },
    "scrolled": true
   },
   "outputs": [],
   "source": [
    "#Reproduce MAMO\n",
    "\n",
    "#Preprocess dataset and generate training, develop, and test sets\n",
    "train_order, valid_order, test_order, movie_dict, user_dict, Tr_rated_dict, \\\n",
    "Rated_dict, dict_user_id2index_Tr, dict_user_id2index_V, condidate_item, \\\n",
    "support_set_x, support_set_y, query_set_x, query_set_y,\\\n",
    "valid_s_set_x, valid_s_set_y, valid_q_set_x, valid_q_set_y, Tr_user, V_user = prepare_dataset_MAMO()\n",
    "\n",
    "#Build recommender system\n",
    "model = MAMRec(config_MAMO, Tr_user, V_user, movie_dict, user_dict)\n",
    "#Training\n",
    "model.train(dict_user_id2index_Tr, dict_user_id2index_V, support_set_x, support_set_y, \n",
    "            query_set_x, query_set_y, valid_s_set_x, valid_s_set_y, valid_q_set_x, valid_q_set_y)\n",
    "#Recommending\n",
    "MAMO_Recommending(test_order, Tr_rated_dict, Rated_dict, condidate_item, dict_user_id2index_Tr, dict_user_id2index_V,\n",
    "                  support_set_x, support_set_y, query_set_x, query_set_y, \n",
    "                  valid_s_set_x, valid_s_set_y, valid_q_set_x, valid_q_set_y)"
   ]
  },
  {
   "cell_type": "code",
   "execution_count": null,
   "metadata": {},
   "outputs": [],
   "source": []
  }
 ],
 "metadata": {
  "kernelspec": {
   "display_name": "lizhi",
   "language": "python",
   "name": "lizhi"
  },
  "language_info": {
   "codemirror_mode": {
    "name": "ipython",
    "version": 3
   },
   "file_extension": ".py",
   "mimetype": "text/x-python",
   "name": "python",
   "nbconvert_exporter": "python",
   "pygments_lexer": "ipython3",
   "version": "3.7.9"
  },
  "toc": {
   "base_numbering": 1,
   "nav_menu": {},
   "number_sections": true,
   "sideBar": true,
   "skip_h1_title": false,
   "title_cell": "Table of Contents",
   "title_sidebar": "Contents",
   "toc_cell": false,
   "toc_position": {},
   "toc_section_display": true,
   "toc_window_display": false
  }
 },
 "nbformat": 4,
 "nbformat_minor": 4
}
